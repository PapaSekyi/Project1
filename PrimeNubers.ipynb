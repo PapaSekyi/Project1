{
  "nbformat": 4,
  "nbformat_minor": 0,
  "metadata": {
    "colab": {
      "provenance": []
    },
    "kernelspec": {
      "name": "python3",
      "display_name": "Python 3"
    },
    "language_info": {
      "name": "python"
    }
  },
  "cells": [
    {
      "cell_type": "code",
      "execution_count": 1,
      "metadata": {
        "colab": {
          "base_uri": "https://localhost:8080/"
        },
        "id": "RIYuDmbsEU-y",
        "outputId": "3755da30-b64c-49f5-e9ed-41c8ad1a62e7"
      },
      "outputs": [
        {
          "output_type": "stream",
          "name": "stdout",
          "text": [
            "Enter number 1: 45\n",
            "Enter number 2: 3\n",
            "Enter number 3: 6\n",
            "Enter number 4: 09\n",
            "Enter number 5: 9\n",
            "Enter number 6: 7\n",
            "Enter number 7: 4\n",
            "Enter number 8: 3\n",
            "Enter number 9: 2\n",
            "Enter number 10: 56\n",
            "Prime numbers: [3, 7, 3, 2]\n"
          ]
        }
      ],
      "source": [
        "def is_prime(num):\n",
        "    \"\"\"\n",
        "    Check if a number is prime.\n",
        "    \"\"\"\n",
        "    if num < 2:\n",
        "        return False\n",
        "    for i in range(2, int(num ** 0.5) + 1):\n",
        "        if num % i == 0:\n",
        "            return False\n",
        "    return True\n",
        "\n",
        "# Prompt the user to enter 10 numbers\n",
        "numbers = []\n",
        "for i in range(10):\n",
        "    num = int(input(f\"Enter number {i+1}: \"))\n",
        "    numbers.append(num)\n",
        "\n",
        "# Identify and print the prime numbers\n",
        "prime_numbers = [num for num in numbers if is_prime(num)]\n",
        "print(\"Prime numbers:\", prime_numbers)\n",
        "\n"
      ]
    },
    {
      "cell_type": "code",
      "source": [],
      "metadata": {
        "id": "8ClWMguSEZNK"
      },
      "execution_count": null,
      "outputs": []
    }
  ]
}